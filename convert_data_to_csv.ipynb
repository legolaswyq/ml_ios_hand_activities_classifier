{
 "cells": [
  {
   "cell_type": "code",
   "execution_count": 13,
   "metadata": {},
   "outputs": [],
   "source": [
    "import csv \n",
    "import json \n",
    "import re\n",
    "import os \n",
    "import glob "
   ]
  },
  {
   "cell_type": "code",
   "execution_count": 14,
   "metadata": {},
   "outputs": [
    {
     "name": "stdout",
     "output_type": "stream",
     "text": [
      "50\n"
     ]
    }
   ],
   "source": [
    "files = glob.glob('/home/walter/Downloads/data/U*')\n",
    "print(len(files))\n",
    "src_dir = \"/home/walter/Downloads/data\"\n",
    "save_dir = \"/home/walter/git/ml_ios_hand_activities_classifier/data/val/Up_down\""
   ]
  },
  {
   "cell_type": "code",
   "execution_count": 15,
   "metadata": {},
   "outputs": [],
   "source": [
    "def re_filename(filename, src_dir, save_dir):\n",
    "    new_filename = re.sub(src_dir, save_dir, filename)\n",
    "    new_filename = re.sub(\".json\", \".csv\", new_filename)\n",
    "    return new_filename"
   ]
  },
  {
   "cell_type": "code",
   "execution_count": 16,
   "metadata": {},
   "outputs": [],
   "source": [
    "def write_csv(filename):\n",
    "    with open(filename) as f:\n",
    "        data = json.load(f)\n",
    "        motionData = data['motionData']\n",
    "        new_filename = re_filename(filename, src_dir, save_dir)\n",
    "        parent_dir = os.path.dirname(new_filename)\n",
    "        if not os.path.exists(parent_dir):\n",
    "            os.makedirs(parent_dir)\n",
    "        with open(new_filename, mode='w') as file:\n",
    "            writer = csv.writer(file, delimiter=',', quotechar='\"', quoting=csv.QUOTE_MINIMAL)\n",
    "            writer.writerow(['timestamp', 'acc_x', 'acc_y', 'acc_z', 'rot_x', 'rot_y', 'rot_z'])\n",
    "            for i in range(len(motionData)):\n",
    "                writer.writerow([motionData[i]['timestamp'], motionData[i]['acceleration']['x'], motionData[i]['acceleration']['y'], motionData[i]['acceleration']['z'], motionData[i]['rotationRate']['x'], motionData[i]['rotationRate']['y'], motionData[i]['rotationRate']['z']])"
   ]
  },
  {
   "cell_type": "code",
   "execution_count": 17,
   "metadata": {},
   "outputs": [],
   "source": [
    "for file in files:\n",
    "    write_csv(file)"
   ]
  },
  {
   "cell_type": "code",
   "execution_count": null,
   "metadata": {},
   "outputs": [],
   "source": []
  }
 ],
 "metadata": {
  "kernelspec": {
   "display_name": "ml",
   "language": "python",
   "name": "python3"
  },
  "language_info": {
   "codemirror_mode": {
    "name": "ipython",
    "version": 3
   },
   "file_extension": ".py",
   "mimetype": "text/x-python",
   "name": "python",
   "nbconvert_exporter": "python",
   "pygments_lexer": "ipython3",
   "version": "3.10.16"
  }
 },
 "nbformat": 4,
 "nbformat_minor": 2
}
